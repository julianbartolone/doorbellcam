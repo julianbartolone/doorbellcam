{
 "cells": [
  {
   "cell_type": "code",
   "execution_count": null,
   "metadata": {},
   "outputs": [],
   "source": [
    "def maximum(input_list):\n",
    "    if len(input_list) == 0:\n",
    "        return None\n",
    "    temp_max = input_list[0]\n",
    "    for i in range(len(input_list) - 1):\n",
    "        if temp_max < input_list[i]:\n",
    "            temp_max = input_list[i]\n",
    "    return temp_max\n",
    "\n",
    "def reverse_string(input_string):\n",
    "    if len(input_string) < 1:\n",
    "        return \"\"\n",
    "    first = input_string[len(input_string) - 1]\n",
    "    return first + str(reverse_string(input_string[:(len(input_string) - 1)]))\n",
    "\n",
    "def helper(input_list, target, start stop):\n",
    "    sorted_list = sorted(input_list)\n",
    "    if sorted_list[current_index] == target:\n",
    "        return current_index\n",
    "    if sorted_list[current_index] > target:\n",
    "        return helper()\n",
    "    \n",
    "def binary_search(input_list, target):\n",
    "    return helper(input_list, target, input_list[0], input_list[len(input_list) - 1])\n",
    "\n",
    "\n",
    "def fib(nth):\n",
    "    if nth <= 0:\n",
    "        return 0\n",
    "    if nth == 1:\n",
    "        return 1\n",
    "    return fib(nth-1) + fib(nth-2) \n",
    "\n",
    "def iter_factorial(n):\n",
    "    if n >= 0:\n",
    "        answer = 1\n",
    "        for i in range(n):\n",
    "            answer *= i+1\n",
    "        return answer\n",
    "\n",
    "def rec_factorial(n):\n",
    "    if n <= 0:\n",
    "        return 0\n",
    "    if n == 1:\n",
    "        return 1\n",
    "    return n*rec_factorial(n-1)\n",
    "\n",
    "\n"
   ]
  }
 ],
 "metadata": {
  "kernelspec": {
   "display_name": "Python 3",
   "language": "python",
   "name": "python3"
  },
  "language_info": {
   "codemirror_mode": {
    "name": "ipython",
    "version": 3
   },
   "file_extension": ".py",
   "mimetype": "text/x-python",
   "name": "python",
   "nbconvert_exporter": "python",
   "pygments_lexer": "ipython3",
   "version": "3.7.3"
  }
 },
 "nbformat": 4,
 "nbformat_minor": 2
}
