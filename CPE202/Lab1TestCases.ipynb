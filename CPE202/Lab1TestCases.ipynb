{
 "cells": [
  {
   "cell_type": "code",
   "execution_count": 11,
   "metadata": {},
   "outputs": [
    {
     "name": "stderr",
     "output_type": "stream",
     "text": [
      "E\n",
      "======================================================================\n",
      "ERROR: /home/jovyan/ (unittest.loader._FailedTest)\n",
      "----------------------------------------------------------------------\n",
      "AttributeError: module '__main__' has no attribute '/home/jovyan/'\n",
      "\n",
      "----------------------------------------------------------------------\n",
      "Ran 1 test in 0.002s\n",
      "\n",
      "FAILED (errors=1)\n"
     ]
    },
    {
     "ename": "SystemExit",
     "evalue": "True",
     "output_type": "error",
     "traceback": [
      "An exception has occurred, use %tb to see the full traceback.\n",
      "\u001b[0;31mSystemExit\u001b[0m\u001b[0;31m:\u001b[0m True\n"
     ]
    },
    {
     "name": "stderr",
     "output_type": "stream",
     "text": [
      "/srv/conda/envs/notebook/lib/python3.7/site-packages/IPython/core/interactiveshell.py:3334: UserWarning: To exit: use 'exit', 'quit', or Ctrl-D.\n",
      "  warn(\"To exit: use 'exit', 'quit', or Ctrl-D.\", stacklevel=1)\n"
     ]
    }
   ],
   "source": [
    "def get_max(input_list):\n",
    "    if len(input_list) == 0:\n",
    "        return None\n",
    "    temp_max = input_list[0]\n",
    "    for i in range(len(input_list) - 1):\n",
    "        if temp_max < input_list[i]:\n",
    "            temp_max = input_list[i]\n",
    "    return temp_max\n",
    "\n",
    "def reverse(input_string):\n",
    "    if len(input_string) < 1:\n",
    "        return \"\"\n",
    "    first = input_string[len(input_string) - 1]\n",
    "    return first + str(reverse(input_string[:(len(input_string) - 1)]))\n",
    "\n",
    "def helper(input_list, target, index):\n",
    "    sorted_list = sorted(input_list)\n",
    "    #print(sorted_list, index)\n",
    "    if len(input_list) < 1 or (len(input_list) == 1 and target != input_list[0]):\n",
    "        return None\n",
    "    else:\n",
    "        half_index = len(input_list) // 2\n",
    "        if sorted_list[half_index] == target:\n",
    "            return sorted_list.index(target) + index\n",
    "        else:\n",
    "            if target < sorted_list[half_index]:\n",
    "                return helper(sorted_list[:half_index],target, index)\n",
    "            else:\n",
    "                return helper(sorted_list[half_index:],target, index + len(sorted_list[:half_index]))\n",
    "    \n",
    "def search(input_list, target):\n",
    "    return search(input_list, target, 0)\n",
    "\n",
    "def fib(nth):\n",
    "    if nth <= 0:\n",
    "        return 0\n",
    "    if nth == 1:\n",
    "        return 1\n",
    "    return fib(nth-1) + fib(nth-2) \n",
    "\n",
    "def factorial_iter(n):\n",
    "    if n >= 0:\n",
    "        answer = 1\n",
    "        for i in range(n):\n",
    "            answer *= i+1\n",
    "        return answer\n",
    "\n",
    "def factorial_rec(n):\n",
    "    if n <= 0:\n",
    "        return 0\n",
    "    if n == 1:\n",
    "        return 1\n",
    "    return n*rec_factorial(n-1)\n",
    "\n",
    "\n",
    "\n",
    " \n",
    "class TestCase(unittest.TestCase):\n",
    "    def test_get_max(self):\n",
    "        arr = [1,2,3,4,5]\n",
    "        self.assertEqual(get_max(arr), 5)\n",
    "\n",
    "    def test_reverse(self):\n",
    "        self.assertEqual(reverse(\"qweEerty\"), \"ytreEewq\")\n",
    "        self.assertEqual(\"\", \"\")\n",
    "\n",
    "    def test_search(self):\n",
    "        arr = [1,2,3,4,5]\n",
    "        self.assertEqual(search(arr, 5), 4)\n",
    "        arr = []\n",
    "        self.assertEqual(search(arr, 5), None)\n",
    "\n",
    "    def test_fib(self):\n",
    "        def fib_numbers(n):\n",
    "            sequence = []\n",
    "            for i in range(n+1):\n",
    "                sequence.append(fib(i))\n",
    "            return sequence \n",
    "\n",
    "        #this will test your fib function by calling it multiple times\n",
    "        self.assertEqual(fib_numbers(10),\n",
    "                [0, 1, 1, 2, 3, 5, 8, 13, 21, 34, 55])\n",
    "\n",
    "    def test_factorial(self):\n",
    "        self.assertEqual(factorial_iter(3), 6)\n",
    "        self.assertEqual(factorial_iter(3), factorial_rec(3))\n",
    "\n",
    "def main():\n",
    "    # execute unit tests\n",
    "    unittest.main()\n",
    "\n",
    "if __name__ == '__main__':\n",
    "    # execute main() function\n",
    "    main()\n"
   ]
  },
  {
   "cell_type": "code",
   "execution_count": 6,
   "metadata": {},
   "outputs": [
    {
     "name": "stdout",
     "output_type": "stream",
     "text": [
      "0 1\n",
      "1 1\n",
      "2 2\n",
      "3 33\n",
      "4 33\n",
      "33\n"
     ]
    }
   ],
   "source": [
    "def get_max(input_list):\n",
    "    if len(input_list) == 0:\n",
    "        return None\n",
    "    temp_max = input_list[0]\n",
    "    for i in range(len(input_list)):\n",
    "        print(i, temp_max)\n",
    "        if temp_max < input_list[i]:\n",
    "            temp_max = input_list[i]\n",
    "    return temp_max\n",
    "\n",
    "print(get_max([1, 2, 33, -14, 5]))"
   ]
  },
  {
   "cell_type": "code",
   "execution_count": null,
   "metadata": {},
   "outputs": [],
   "source": []
  }
 ],
 "metadata": {
  "kernelspec": {
   "display_name": "Python 3",
   "language": "python",
   "name": "python3"
  },
  "language_info": {
   "codemirror_mode": {
    "name": "ipython",
    "version": 3
   },
   "file_extension": ".py",
   "mimetype": "text/x-python",
   "name": "python",
   "nbconvert_exporter": "python",
   "pygments_lexer": "ipython3",
   "version": "3.7.3"
  }
 },
 "nbformat": 4,
 "nbformat_minor": 2
}
