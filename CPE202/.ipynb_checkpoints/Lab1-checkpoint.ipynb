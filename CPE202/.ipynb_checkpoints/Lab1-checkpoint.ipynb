{
 "cells": [
  {
   "cell_type": "code",
   "execution_count": 54,
   "metadata": {},
   "outputs": [],
   "source": [
    "def get_max(input_list):\n",
    "    if len(input_list) == 0:\n",
    "        return None\n",
    "    temp_max = input_list[0]\n",
    "    for i in range(len(input_list) - 1):\n",
    "        if temp_max < input_list[i]:\n",
    "            temp_max = input_list[i]\n",
    "    return temp_max\n",
    "\n",
    "def reverse(input_string):\n",
    "    if len(input_string) < 1:\n",
    "        return \"\"\n",
    "    first = input_string[len(input_string) - 1]\n",
    "    return first + str(reverse(input_string[:(len(input_string) - 1)]))\n",
    "\n",
    "def helper(input_list, target, index):\n",
    "    sorted_list = sorted(input_list)\n",
    "    #print(sorted_list, index)\n",
    "    if len(input_list) < 1 or (len(input_list) == 1 and target != input_list[0]):\n",
    "        return None\n",
    "    else:\n",
    "        half_index = len(input_list) // 2\n",
    "        if sorted_list[half_index] == target:\n",
    "            return sorted_list.index(target) + index\n",
    "        else:\n",
    "            if target < sorted_list[half_index]:\n",
    "                return helper(sorted_list[:half_index],target, index)\n",
    "            else:\n",
    "                return helper(sorted_list[half_index:],target, index + len(sorted_list[:half_index]))\n",
    "    \n",
    "def search(input_list, target):\n",
    "    return search(input_list, target, 0)\n",
    "\n",
    "def fib(nth):\n",
    "    if nth <= 0:\n",
    "        return 0\n",
    "    if nth == 1:\n",
    "        return 1\n",
    "    return fib(nth-1) + fib(nth-2) \n",
    "\n",
    "def factorial_iter(n):\n",
    "    if n >= 0:\n",
    "        answer = 1\n",
    "        for i in range(n):\n",
    "            answer *= i+1\n",
    "        return answer\n",
    "\n",
    "def factorial_rec(n):\n",
    "    if n <= 0:\n",
    "        return 0\n",
    "    if n == 1:\n",
    "        return 1\n",
    "    return n*rec_factorial(n-1)\n",
    "\n",
    "\n"
   ]
  },
  {
   "cell_type": "code",
   "execution_count": null,
   "metadata": {},
   "outputs": [],
   "source": []
  }
 ],
 "metadata": {
  "kernelspec": {
   "display_name": "Python 3",
   "language": "python",
   "name": "python3"
  },
  "language_info": {
   "codemirror_mode": {
    "name": "ipython",
    "version": 3
   },
   "file_extension": ".py",
   "mimetype": "text/x-python",
   "name": "python",
   "nbconvert_exporter": "python",
   "pygments_lexer": "ipython3",
   "version": "3.7.3"
  }
 },
 "nbformat": 4,
 "nbformat_minor": 2
}
