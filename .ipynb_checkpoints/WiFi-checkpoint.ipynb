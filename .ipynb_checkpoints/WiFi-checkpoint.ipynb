{
 "cells": [
  {
   "cell_type": "code",
   "execution_count": null,
   "metadata": {},
   "outputs": [],
   "source": [
    "from pynq.lib import Wifi\n",
    "\n",
    "port = Wifi()\n",
    "\n",
    "ssid = input(\"Type in the SSID:\")\n",
    "pwd = input(\"Type in the password:\")\n",
    "port.connect(ssid, pwd)"
   ]
  },
  {
   "cell_type": "code",
   "execution_count": null,
   "metadata": {},
   "outputs": [],
   "source": [
    "import time\n",
    "time.ctime(time.time()-7*60*60) # This should give the correct time if you are connected to WiFi; for some reason time.ctime(time.time()) returned the current time plus 7 hours, hence the -7*60*60"
   ]
  }
 ],
 "metadata": {
  "kernelspec": {
   "display_name": "Python 3",
   "language": "python",
   "name": "python3"
  },
  "language_info": {
   "codemirror_mode": {
    "name": "ipython",
    "version": 3
   },
   "file_extension": ".py",
   "mimetype": "text/x-python",
   "name": "python",
   "nbconvert_exporter": "python",
   "pygments_lexer": "ipython3",
   "version": "3.6.5"
  }
 },
 "nbformat": 4,
 "nbformat_minor": 2
}
